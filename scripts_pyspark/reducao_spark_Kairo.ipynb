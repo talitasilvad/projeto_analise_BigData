{
  "nbformat": 4,
  "nbformat_minor": 0,
  "metadata": {
    "colab": {
      "provenance": []
    },
    "kernelspec": {
      "name": "python3",
      "display_name": "Python 3"
    },
    "language_info": {
      "name": "python"
    }
  },
  "cells": [
    {
      "cell_type": "code",
      "metadata": {
        "id": "5d6a048e"
      },
      "source": [
        "!pip install -r /content/sample_data/requirements.txt\n",
        "#adicionei o matplotlib para graficos e o numpy para a porcentagem\n",
        "!pip install matplotlib\n",
        "!pip install numpy"
      ],
      "execution_count": null,
      "outputs": []
    },
    {
      "cell_type": "code",
      "metadata": {
        "id": "991b0e72"
      },
      "source": [
        "#Transformando o arquivo excel dos dados_tic_kids_geral em CSV\n",
        "#Nao consegui baixar os dados CSV do git, entao tive que baixar os dados excel no google drive\n",
        "#E esse codigo cria um novo arquivo CSV com os dados do arquivo excel\n",
        "\n",
        "import pandas as pd\n",
        "\n",
        "excel_file = '/content/sample_data/dados_tic_kids_geral.xlsx'\n",
        "csv_file = '/content/sample_data/dados_tic_kids_geral.csv'\n",
        "\n",
        "read_file = pd.read_excel(excel_file)\n",
        "read_file.to_csv(csv_file, index = None, header=True)\n"
      ],
      "execution_count": null,
      "outputs": []
    },
    {
      "cell_type": "code",
      "source": [
        "from pyspark.sql import SparkSession\n",
        "from pyspark.sql.functions import col, coalesce, lit, count, round as spark_round\n",
        "spark = SparkSession.builder.master(\"local[*]\").appName(\"Tic_Kids_Analise\").getOrCreate()\n",
        "\n",
        "dataset = spark.read.csv('../content/sample_data/dados_tic_kids_geral.csv', header=True, inferSchema=True, multiLine=True, escape='\"')\n",
        "# dataset.printSchema()\n",
        "\n",
        "dataset_unificado = dataset.withColumn(\n",
        "    \"uso_rede_social\",\n",
        "    coalesce(\n",
        "        col(dataset.columns[4]),)\n",
        ")\n",
        "# Vou utilizar apenas a 5ª Coluna por enquanto\n",
        "# \"Nos últimos três meses, a criança/adolescente mandou mensagens no Whatsapp, Snapchat ou chat do Facebook?\"\n",
        "#\n",
        "#\n",
        "#         col(dataset.columns[10]),\n",
        "#         col(dataset.columns[12]),\n",
        "#     )\n",
        "# )\n",
        "\n",
        "# dataset_unificado = dataset_unificado.withColumn(\n",
        "#     \"freq_rede_social\",\n",
        "#     coalesce(\n",
        "#         col(dataset.columns[5]),\n",
        "#         col(dataset.columns[7]),\n",
        "#         col(dataset.columns[11]),\n",
        "#         col(dataset.columns[13]),\n",
        "#     )\n",
        "# )\n",
        "\n"
      ],
      "metadata": {
        "id": "QRQIumbo-aWe"
      },
      "execution_count": 48,
      "outputs": []
    },
    {
      "cell_type": "code",
      "source": [
        "# tabela_UsoRedes_Série = dataset_unificado.select(\"ano\", \"uso_rede_social\", \"freq_rede_social\", \"Em que ano a criança/adolescente está na escola?\").show(5, truncate=False)\n",
        "dataset_filtrado = dataset_unificado.filter(\n",
        "    col(\"Em que ano a criança/adolescente está na escola?\").contains(\"Ensino Médio\") &\n",
        "    (col(\"Ano\").cast(\"int\") <= 2019)\n",
        ")\n",
        "\n",
        "total_alunos = dataset_filtrado.count()\n",
        "\n",
        "df_contagem = dataset_filtrado.groupBy(\"uso_rede_social\").agg(count(lit(1)).alias(\"contagem\")\n",
        ")\n",
        "# groupby agrupa os valores da coluna em \"equipes\" de cada tipo de valor (sim,nao,nao se aplica), e o agg \"agrupa\", o lit cria uma\n",
        "# coluna temporaria que tera 1 em todas as linhas, e o agg vai somar todas as linhas,\n",
        "# assim teremos a contagem da quantidade de SIMs e NAOs\n",
        "\n",
        "df_porcentagem = df_contagem.withColumn(\n",
        "    \"porcentagem\",\n",
        "    spark_round((col(\"contagem\") / lit(total_alunos)) * 100, 2)\n",
        ")\n",
        "\n",
        "\n",
        "valores_desejados = [\"Sim\", \"Não\", \"Não se aplica\"]\n",
        "df_porcentagem_final = df_porcentagem.filter(\n",
        "    col(\"uso_rede_social\").isin(valores_desejados)\n",
        ").select(\n",
        "    \"uso_rede_social\",\n",
        "    \"Porcentagem\"\n",
        ").orderBy(col(\"Porcentagem\").desc())\n",
        "\n",
        "tabela_UsoRedes_EnsinoMedio = dataset_filtrado.select(\"Ano\", \"Em que ano a criança/adolescente está na escola?\", \"uso_rede_social\").show(10, truncate=False)\n",
        "\n",
        "print(f\"Total de alunos do Ensino Médio (Ano <= 2019): {total_alunos}\")\n",
        "print(\"\\nPorcentagem de uso de mensagens (Whatsapp, Snapchat ou chat do Facebook):\")\n",
        "df_porcentagem_final.show()"
      ],
      "metadata": {
        "colab": {
          "base_uri": "https://localhost:8080/"
        },
        "id": "AF961ma5C6JZ",
        "outputId": "8cfaada0-fae3-4ad7-8326-e54e27a6b334"
      },
      "execution_count": 52,
      "outputs": [
        {
          "output_type": "stream",
          "name": "stdout",
          "text": [
            "+----+------------------------------------------------+---------------+\n",
            "|Ano |Em que ano a criança/adolescente está na escola?|uso_rede_social|\n",
            "+----+------------------------------------------------+---------------+\n",
            "|2017|1º ano do Ensino Médio                          |Sim            |\n",
            "|2017|1º ano do Ensino Médio                          |Sim            |\n",
            "|2017|2º ano do Ensino Médio                          |Sim            |\n",
            "|2017|2º ano do Ensino Médio                          |Sim            |\n",
            "|2017|1º ano do Ensino Médio                          |Sim            |\n",
            "|2017|1º ano do Ensino Médio                          |Sim            |\n",
            "|2017|1º ano do Ensino Médio                          |Não            |\n",
            "|2017|2º ano do Ensino Médio                          |Sim            |\n",
            "|2017|1º ano do Ensino Médio                          |Sim            |\n",
            "|2017|1º ano do Ensino Médio                          |Sim            |\n",
            "+----+------------------------------------------------+---------------+\n",
            "only showing top 10 rows\n",
            "\n",
            "Total de alunos do Ensino Médio (Ano <= 2019): 2145\n",
            "\n",
            "Porcentagem de uso de mensagens (Whatsapp, Snapchat ou chat do Facebook):\n",
            "+---------------+-----------+\n",
            "|uso_rede_social|Porcentagem|\n",
            "+---------------+-----------+\n",
            "|            Sim|      92.31|\n",
            "|            Não|       4.66|\n",
            "|  Não se aplica|       2.98|\n",
            "+---------------+-----------+\n",
            "\n"
          ]
        }
      ]
    },
    {
      "cell_type": "code",
      "source": [
        "spark.stop()"
      ],
      "metadata": {
        "id": "lnmU42FhDIu2"
      },
      "execution_count": null,
      "outputs": []
    }
  ]
}